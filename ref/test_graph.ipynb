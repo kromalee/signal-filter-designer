{
 "cells": [
  {
   "cell_type": "code",
   "execution_count": 1,
   "metadata": {},
   "outputs": [
    {
     "ename": "SystemExit",
     "evalue": "0",
     "output_type": "error",
     "traceback": [
      "An exception has occurred, use %tb to see the full traceback.\n",
      "\u001b[0;31mSystemExit\u001b[0m\u001b[0;31m:\u001b[0m 0\n"
     ]
    },
    {
     "name": "stderr",
     "output_type": "stream",
     "text": [
      "/home/kromalee/anaconda3/lib/python3.8/site-packages/IPython/core/interactiveshell.py:3426: UserWarning: To exit: use 'exit', 'quit', or Ctrl-D.\n",
      "  warn(\"To exit: use 'exit', 'quit', or Ctrl-D.\", stacklevel=1)\n"
     ]
    }
   ],
   "source": [
    "import numpy as np\n",
    "import pyqtgraph as pg\n",
    "import sys\n",
    "from PyQt5.QtWidgets import QWidget,QApplication,QFrame,QGridLayout,QVBoxLayout\n",
    "\n",
    "class Example(QWidget):\n",
    "\n",
    "    def __init__(self):\n",
    "        super(Example, self).__init__()\n",
    "        self.initUI()\n",
    "        self.generate_image()\n",
    "\n",
    "    def initUI(self):\n",
    "        self.setGeometry(200,200,1000,800)\n",
    "        self.setWindowTitle(\"实时刷新正余弦波形图\")\n",
    "        self.gridLayout = QGridLayout(self)\n",
    "        self.frame = QFrame(self)\n",
    "        self.frame.setFrameShape(QFrame.Panel)\n",
    "        self.frame.setFrameShadow(QFrame.Plain)\n",
    "        self.frame.setLineWidth(2)\n",
    "        self.frame.setStyleSheet(\"background-color:rgb(0,255,255);\")\n",
    "        self.gridLayout.addWidget(self.frame,0,0,1,2)\n",
    "        self.setLayout(self.gridLayout)\n",
    "\n",
    "    def generate_image(self):\n",
    "        verticalLayout = QVBoxLayout(self.frame)\n",
    "        win = pg.GraphicsLayoutWidget(self.frame)\n",
    "        verticalLayout.addWidget(win)\n",
    "        p = win.addPlot(title=\"动态波形图\")\n",
    "        p.showGrid(x=True,y=True)\n",
    "        p.setLabel(axis=\"left\",text=\"Amplitude / V\")\n",
    "        p.setLabel(axis=\"bottom\",text=\"t / s\")\n",
    "        p.setTitle(\"y = sin(x)\")\n",
    "        p.addLegend()\n",
    "        # mkpen('y', width=3, style=QtCore.Qt.DashLine)\n",
    "        self.curve1 = p.plot(pen=pg.mkPen(\"r\",width=2),name=\"y1\") #设置pen 格式\n",
    "        self.Fs = 1024.0 #采样频率\n",
    "        self.N = 1024    #采样点数\n",
    "        self.f0 = 4.0    #信号频率\n",
    "        self.pha = 0     #初始相位\n",
    "        self.t = np.arange(self.N) / self.Fs    #时间向量 1*1024的矩阵\n",
    "        self.curve1.setData(self.t, np.sin(8 * np.pi * self.t + self.pha * np.pi / 180.0))\n",
    "\n",
    "if __name__ == '__main__':\n",
    "    app = QApplication(sys.argv)\n",
    "    ex = Example()\n",
    "    ex.show()\n",
    "    sys.exit(app.exec_())"
   ]
  },
  {
   "cell_type": "code",
   "execution_count": null,
   "metadata": {},
   "outputs": [],
   "source": []
  },
  {
   "cell_type": "code",
   "execution_count": null,
   "metadata": {},
   "outputs": [],
   "source": []
  }
 ],
 "metadata": {
  "kernelspec": {
   "display_name": "Python 3",
   "language": "python",
   "name": "python3"
  },
  "language_info": {
   "codemirror_mode": {
    "name": "ipython",
    "version": 3
   },
   "file_extension": ".py",
   "mimetype": "text/x-python",
   "name": "python",
   "nbconvert_exporter": "python",
   "pygments_lexer": "ipython3",
   "version": "3.8.5"
  }
 },
 "nbformat": 4,
 "nbformat_minor": 4
}
